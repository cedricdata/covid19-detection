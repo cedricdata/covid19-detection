{
 "cells": [
  {
   "cell_type": "code",
   "execution_count": 1,
   "metadata": {},
   "outputs": [],
   "source": [
    "import pandas as pd\n",
    "import numpy as np\n",
    "import seaborn as sns\n",
    "import matplotlib.pyplot as plt\n",
    "import cv2\n",
    "\n",
    "import os\n",
    "import io\n",
    "import sys\n",
    "\n",
    "from tensorflow.keras import Sequential\n",
    "from tensorflow.keras.layers import Conv2D\n",
    "from tensorflow.keras.layers import Dense\n",
    "from tensorflow.keras.layers import MaxPool2D\n",
    "from tensorflow.keras.layers import Flatten\n",
    "from tensorflow.keras.layers import Dropout\n",
    "from tensorflow.keras import utils\n",
    "\n",
    "from tensorflow.keras.optimizers import Adam\n",
    "from tensorflow.keras.optimizers.schedules import ExponentialDecay\n",
    "from tensorflow.keras.losses import SparseCategoricalCrossentropy\n",
    "from tensorflow.keras.losses import CategoricalCrossentropy\n",
    "\n",
    "from sklearn.metrics import classification_report\n",
    "from sklearn.metrics import confusion_matrix\n",
    "\n",
    "# Pour ignorer les warning/alertes\n",
    "import warnings\n",
    "warnings.filterwarnings(\"ignore\")\n",
    "\n",
    "# Encoding des trois classes\n",
    "ENCODING = {'COVID-19': 0, 'NORMAL': 1, 'Viral Pneumonia': 2}\n",
    "\n",
    "# Dossier contenant les images\n",
    "FOLDERS = ENCODING.keys()\n",
    "\n",
    "# Dossier racine contenant les sous dossiers\n",
    "BASE_DIRECTORY = '../Data'\n",
    "\n",
    "# Noms des dossiers contentant l'ensemble des images des plots ainsi qu'un text file du model.summary, les métriques sauv sous\n",
    "CNN_ARCHITECTURE_1 = 'cnn_architecture_1'\n",
    "if not os.path.exists(CNN_ARCHITECTURE_1):\n",
    "    os.makedirs(CNN_ARCHITECTURE_1)\n",
    "\n",
    "CNN_ARCHITECTURE_2 = 'cnn_architecture_2'\n",
    "if not os.path.exists(CNN_ARCHITECTURE_2):\n",
    "    os.makedirs(CNN_ARCHITECTURE_2)"
   ]
  },
  {
   "cell_type": "code",
   "execution_count": 12,
   "metadata": {
    "scrolled": true
   },
   "outputs": [],
   "source": [
    "NB_im = []\n",
    "for folder in FOLDERS:\n",
    "    path_to_folder = f'{BASE_DIRECTORY}/{folder}'\n",
    "    NB_im.append(len(os.listdir(path_to_folder)))"
   ]
  },
  {
   "cell_type": "code",
   "execution_count": 13,
   "metadata": {},
   "outputs": [],
   "source": [
    "def im_resize_256(img):\n",
    "    \"\"\"\n",
    "    Cette fonction lit une image et retourne la même image avec une résolution de 256 X 256\n",
    "    \"\"\"\n",
    "    if img.shape == (256,256):\n",
    "        img_ret = img\n",
    "    else :\n",
    "        img_ret = cv2.resize(img, dsize = (256,256))\n",
    "    return img_ret"
   ]
  },
  {
   "cell_type": "code",
   "execution_count": 14,
   "metadata": {},
   "outputs": [],
   "source": [
    "# Vecteur des noms d'images\n",
    "Vnoms = []\n",
    "# Vecteur des types\n",
    "Vtypes = []\n",
    "# Vecteur des images\n",
    "Vim = np.empty((np.array(NB_im).sum(), 256*256))\n",
    "\n",
    "### Remplissage des vecteurs\n",
    "\n",
    "j = 0\n",
    "# Parcourir les folders( on en a trois)\n",
    "for type_im, nb in zip(FOLDERS,NB_im):\n",
    "    # Parcourir les images de chaque folder, nb c'est le nombre d'image de chaque folder.\n",
    "    for i in range(1,nb+1):\n",
    "        # Type de l'image \n",
    "        Vtypes.append(type_im)\n",
    "        # Construire le nom de l'image\n",
    "        nom = \"%s (%s).png\" %(type_im,i)\n",
    "        Vnoms.append(nom)\n",
    "        # Chemin de l'image\n",
    "        path_im = f'{BASE_DIRECTORY}/{type_im}/{nom}'\n",
    "        # Lecture de l'image\n",
    "        img_gray = cv2.imread(path_im, cv2.IMREAD_GRAYSCALE) \n",
    "        # Transformer l'image en une image de taille 256 X 256\n",
    "        img_gray = im_resize_256(img_gray).reshape(256*256)\n",
    "        # Inserer l'image dans le vecteur des images (Vim)\n",
    "        Vim[j] = img_gray\n",
    "        j = j+1"
   ]
  },
  {
   "cell_type": "code",
   "execution_count": 15,
   "metadata": {},
   "outputs": [
    {
     "data": {
      "text/html": [
       "<div>\n",
       "<style scoped>\n",
       "    .dataframe tbody tr th:only-of-type {\n",
       "        vertical-align: middle;\n",
       "    }\n",
       "\n",
       "    .dataframe tbody tr th {\n",
       "        vertical-align: top;\n",
       "    }\n",
       "\n",
       "    .dataframe thead th {\n",
       "        text-align: right;\n",
       "    }\n",
       "</style>\n",
       "<table border=\"1\" class=\"dataframe\">\n",
       "  <thead>\n",
       "    <tr style=\"text-align: right;\">\n",
       "      <th></th>\n",
       "      <th>0</th>\n",
       "      <th>1</th>\n",
       "      <th>2</th>\n",
       "      <th>3</th>\n",
       "      <th>4</th>\n",
       "      <th>5</th>\n",
       "      <th>6</th>\n",
       "      <th>7</th>\n",
       "      <th>8</th>\n",
       "      <th>9</th>\n",
       "      <th>...</th>\n",
       "      <th>65526</th>\n",
       "      <th>65527</th>\n",
       "      <th>65528</th>\n",
       "      <th>65529</th>\n",
       "      <th>65530</th>\n",
       "      <th>65531</th>\n",
       "      <th>65532</th>\n",
       "      <th>65533</th>\n",
       "      <th>65534</th>\n",
       "      <th>65535</th>\n",
       "    </tr>\n",
       "  </thead>\n",
       "  <tbody>\n",
       "    <tr>\n",
       "      <th>COVID-19 (1).png</th>\n",
       "      <td>175</td>\n",
       "      <td>11</td>\n",
       "      <td>0</td>\n",
       "      <td>0</td>\n",
       "      <td>0</td>\n",
       "      <td>0</td>\n",
       "      <td>0</td>\n",
       "      <td>0</td>\n",
       "      <td>0</td>\n",
       "      <td>0</td>\n",
       "      <td>...</td>\n",
       "      <td>0</td>\n",
       "      <td>5</td>\n",
       "      <td>22</td>\n",
       "      <td>8</td>\n",
       "      <td>0</td>\n",
       "      <td>1</td>\n",
       "      <td>1</td>\n",
       "      <td>0</td>\n",
       "      <td>20</td>\n",
       "      <td>159</td>\n",
       "    </tr>\n",
       "    <tr>\n",
       "      <th>COVID-19 (2).png</th>\n",
       "      <td>15</td>\n",
       "      <td>15</td>\n",
       "      <td>17</td>\n",
       "      <td>25</td>\n",
       "      <td>25</td>\n",
       "      <td>25</td>\n",
       "      <td>21</td>\n",
       "      <td>14</td>\n",
       "      <td>13</td>\n",
       "      <td>9</td>\n",
       "      <td>...</td>\n",
       "      <td>26</td>\n",
       "      <td>38</td>\n",
       "      <td>57</td>\n",
       "      <td>110</td>\n",
       "      <td>111</td>\n",
       "      <td>113</td>\n",
       "      <td>69</td>\n",
       "      <td>105</td>\n",
       "      <td>105</td>\n",
       "      <td>83</td>\n",
       "    </tr>\n",
       "    <tr>\n",
       "      <th>COVID-19 (3).png</th>\n",
       "      <td>144</td>\n",
       "      <td>145</td>\n",
       "      <td>145</td>\n",
       "      <td>142</td>\n",
       "      <td>142</td>\n",
       "      <td>141</td>\n",
       "      <td>141</td>\n",
       "      <td>140</td>\n",
       "      <td>140</td>\n",
       "      <td>140</td>\n",
       "      <td>...</td>\n",
       "      <td>199</td>\n",
       "      <td>200</td>\n",
       "      <td>197</td>\n",
       "      <td>196</td>\n",
       "      <td>197</td>\n",
       "      <td>199</td>\n",
       "      <td>197</td>\n",
       "      <td>195</td>\n",
       "      <td>197</td>\n",
       "      <td>176</td>\n",
       "    </tr>\n",
       "    <tr>\n",
       "      <th>COVID-19 (4).png</th>\n",
       "      <td>135</td>\n",
       "      <td>132</td>\n",
       "      <td>130</td>\n",
       "      <td>129</td>\n",
       "      <td>129</td>\n",
       "      <td>129</td>\n",
       "      <td>128</td>\n",
       "      <td>128</td>\n",
       "      <td>128</td>\n",
       "      <td>127</td>\n",
       "      <td>...</td>\n",
       "      <td>175</td>\n",
       "      <td>173</td>\n",
       "      <td>172</td>\n",
       "      <td>170</td>\n",
       "      <td>168</td>\n",
       "      <td>166</td>\n",
       "      <td>165</td>\n",
       "      <td>163</td>\n",
       "      <td>167</td>\n",
       "      <td>161</td>\n",
       "    </tr>\n",
       "    <tr>\n",
       "      <th>COVID-19 (5).png</th>\n",
       "      <td>1</td>\n",
       "      <td>0</td>\n",
       "      <td>0</td>\n",
       "      <td>0</td>\n",
       "      <td>0</td>\n",
       "      <td>0</td>\n",
       "      <td>0</td>\n",
       "      <td>0</td>\n",
       "      <td>0</td>\n",
       "      <td>0</td>\n",
       "      <td>...</td>\n",
       "      <td>30</td>\n",
       "      <td>23</td>\n",
       "      <td>17</td>\n",
       "      <td>1</td>\n",
       "      <td>0</td>\n",
       "      <td>0</td>\n",
       "      <td>0</td>\n",
       "      <td>2</td>\n",
       "      <td>21</td>\n",
       "      <td>49</td>\n",
       "    </tr>\n",
       "    <tr>\n",
       "      <th>COVID-19 (6).png</th>\n",
       "      <td>39</td>\n",
       "      <td>48</td>\n",
       "      <td>40</td>\n",
       "      <td>36</td>\n",
       "      <td>29</td>\n",
       "      <td>14</td>\n",
       "      <td>9</td>\n",
       "      <td>10</td>\n",
       "      <td>14</td>\n",
       "      <td>17</td>\n",
       "      <td>...</td>\n",
       "      <td>12</td>\n",
       "      <td>10</td>\n",
       "      <td>10</td>\n",
       "      <td>10</td>\n",
       "      <td>10</td>\n",
       "      <td>10</td>\n",
       "      <td>10</td>\n",
       "      <td>10</td>\n",
       "      <td>10</td>\n",
       "      <td>10</td>\n",
       "    </tr>\n",
       "    <tr>\n",
       "      <th>COVID-19 (7).png</th>\n",
       "      <td>4</td>\n",
       "      <td>7</td>\n",
       "      <td>6</td>\n",
       "      <td>6</td>\n",
       "      <td>6</td>\n",
       "      <td>6</td>\n",
       "      <td>6</td>\n",
       "      <td>6</td>\n",
       "      <td>6</td>\n",
       "      <td>6</td>\n",
       "      <td>...</td>\n",
       "      <td>4</td>\n",
       "      <td>4</td>\n",
       "      <td>4</td>\n",
       "      <td>3</td>\n",
       "      <td>25</td>\n",
       "      <td>6</td>\n",
       "      <td>4</td>\n",
       "      <td>4</td>\n",
       "      <td>3</td>\n",
       "      <td>3</td>\n",
       "    </tr>\n",
       "    <tr>\n",
       "      <th>COVID-19 (8).png</th>\n",
       "      <td>3</td>\n",
       "      <td>5</td>\n",
       "      <td>5</td>\n",
       "      <td>5</td>\n",
       "      <td>5</td>\n",
       "      <td>5</td>\n",
       "      <td>5</td>\n",
       "      <td>5</td>\n",
       "      <td>5</td>\n",
       "      <td>5</td>\n",
       "      <td>...</td>\n",
       "      <td>3</td>\n",
       "      <td>3</td>\n",
       "      <td>3</td>\n",
       "      <td>2</td>\n",
       "      <td>24</td>\n",
       "      <td>5</td>\n",
       "      <td>3</td>\n",
       "      <td>3</td>\n",
       "      <td>2</td>\n",
       "      <td>2</td>\n",
       "    </tr>\n",
       "    <tr>\n",
       "      <th>COVID-19 (9).png</th>\n",
       "      <td>0</td>\n",
       "      <td>0</td>\n",
       "      <td>3</td>\n",
       "      <td>3</td>\n",
       "      <td>4</td>\n",
       "      <td>5</td>\n",
       "      <td>4</td>\n",
       "      <td>5</td>\n",
       "      <td>6</td>\n",
       "      <td>5</td>\n",
       "      <td>...</td>\n",
       "      <td>12</td>\n",
       "      <td>12</td>\n",
       "      <td>11</td>\n",
       "      <td>11</td>\n",
       "      <td>10</td>\n",
       "      <td>10</td>\n",
       "      <td>10</td>\n",
       "      <td>5</td>\n",
       "      <td>0</td>\n",
       "      <td>0</td>\n",
       "    </tr>\n",
       "    <tr>\n",
       "      <th>COVID-19 (10).png</th>\n",
       "      <td>0</td>\n",
       "      <td>0</td>\n",
       "      <td>13</td>\n",
       "      <td>103</td>\n",
       "      <td>89</td>\n",
       "      <td>77</td>\n",
       "      <td>61</td>\n",
       "      <td>61</td>\n",
       "      <td>67</td>\n",
       "      <td>61</td>\n",
       "      <td>...</td>\n",
       "      <td>65</td>\n",
       "      <td>59</td>\n",
       "      <td>52</td>\n",
       "      <td>44</td>\n",
       "      <td>34</td>\n",
       "      <td>16</td>\n",
       "      <td>0</td>\n",
       "      <td>0</td>\n",
       "      <td>0</td>\n",
       "      <td>0</td>\n",
       "    </tr>\n",
       "  </tbody>\n",
       "</table>\n",
       "<p>10 rows × 65536 columns</p>\n",
       "</div>"
      ],
      "text/plain": [
       "                   0      1      2      3      4      5      6      7      \\\n",
       "COVID-19 (1).png     175     11      0      0      0      0      0      0   \n",
       "COVID-19 (2).png      15     15     17     25     25     25     21     14   \n",
       "COVID-19 (3).png     144    145    145    142    142    141    141    140   \n",
       "COVID-19 (4).png     135    132    130    129    129    129    128    128   \n",
       "COVID-19 (5).png       1      0      0      0      0      0      0      0   \n",
       "COVID-19 (6).png      39     48     40     36     29     14      9     10   \n",
       "COVID-19 (7).png       4      7      6      6      6      6      6      6   \n",
       "COVID-19 (8).png       3      5      5      5      5      5      5      5   \n",
       "COVID-19 (9).png       0      0      3      3      4      5      4      5   \n",
       "COVID-19 (10).png      0      0     13    103     89     77     61     61   \n",
       "\n",
       "                   8      9      ...  65526  65527  65528  65529  65530  \\\n",
       "COVID-19 (1).png       0      0  ...      0      5     22      8      0   \n",
       "COVID-19 (2).png      13      9  ...     26     38     57    110    111   \n",
       "COVID-19 (3).png     140    140  ...    199    200    197    196    197   \n",
       "COVID-19 (4).png     128    127  ...    175    173    172    170    168   \n",
       "COVID-19 (5).png       0      0  ...     30     23     17      1      0   \n",
       "COVID-19 (6).png      14     17  ...     12     10     10     10     10   \n",
       "COVID-19 (7).png       6      6  ...      4      4      4      3     25   \n",
       "COVID-19 (8).png       5      5  ...      3      3      3      2     24   \n",
       "COVID-19 (9).png       6      5  ...     12     12     11     11     10   \n",
       "COVID-19 (10).png     67     61  ...     65     59     52     44     34   \n",
       "\n",
       "                   65531  65532  65533  65534  65535  \n",
       "COVID-19 (1).png       1      1      0     20    159  \n",
       "COVID-19 (2).png     113     69    105    105     83  \n",
       "COVID-19 (3).png     199    197    195    197    176  \n",
       "COVID-19 (4).png     166    165    163    167    161  \n",
       "COVID-19 (5).png       0      0      2     21     49  \n",
       "COVID-19 (6).png      10     10     10     10     10  \n",
       "COVID-19 (7).png       6      4      4      3      3  \n",
       "COVID-19 (8).png       5      3      3      2      2  \n",
       "COVID-19 (9).png      10     10      5      0      0  \n",
       "COVID-19 (10).png     16      0      0      0      0  \n",
       "\n",
       "[10 rows x 65536 columns]"
      ]
     },
     "execution_count": 15,
     "metadata": {},
     "output_type": "execute_result"
    }
   ],
   "source": [
    "df = pd.DataFrame(data = Vim, index = Vnoms)\n",
    "df = df.astype('int')\n",
    "df.head(10)"
   ]
  },
  {
   "cell_type": "markdown",
   "metadata": {},
   "source": [
    "# Modèles Réseaux de Neurones"
   ]
  },
  {
   "cell_type": "markdown",
   "metadata": {},
   "source": [
    "Dans un premier temps, on doit récupérer la data représentant les images sous forme de numpy array. Ainsi que la target qu'on \n",
    "encodera on utilisant le dictionnaire ENCODING"
   ]
  },
  {
   "cell_type": "code",
   "execution_count": 16,
   "metadata": {},
   "outputs": [
    {
     "data": {
      "text/plain": [
       "(3829, 256, 256, 1)"
      ]
     },
     "execution_count": 16,
     "metadata": {},
     "output_type": "execute_result"
    }
   ],
   "source": [
    "data = df.to_numpy()\n",
    "data = data.reshape(-1, 256, 256, 1)\n",
    "data.shape"
   ]
  },
  {
   "cell_type": "code",
   "execution_count": 18,
   "metadata": {},
   "outputs": [
    {
     "data": {
      "text/plain": [
       "(3829,)"
      ]
     },
     "execution_count": 18,
     "metadata": {},
     "output_type": "execute_result"
    }
   ],
   "source": [
    "target = pd.Series(Vtypes).replace(ENCODING)\n",
    "target.shape"
   ]
  },
  {
   "cell_type": "code",
   "execution_count": 20,
   "metadata": {},
   "outputs": [],
   "source": [
    "\"\"\"\n",
    "Pour markdown, Stocker le modèle en local et permet d'exporter le model summary au format text\n",
    "\"\"\"\n",
    "def save_model(model, folder_to_store):\n",
    "    # Récuperer le contenu summary du modèle et le Stocker dans un fichier text\n",
    "    stream = io.StringIO()\n",
    "    # récupérer le contenu du summary dans la variable stream\n",
    "    model.summary(print_fn=lambda x: stream.write(x + '\\n'))\n",
    "    # extraire le texte du stream\n",
    "    summary = stream.getvalue()\n",
    "    stream.close()\n",
    "    export_to_text_file(summary, 'summary', folder_to_store)\n",
    "    \n",
    "    # Stocker le modèle en local pour une utilisation ultérieur (Démo...)\n",
    "    model.save(f'./{folder_to_store}')\n",
    "    \n",
    "\n",
    "\"\"\"\n",
    "Stocker le contenu au format fichier text.\n",
    "\"\"\"\n",
    "def export_to_text_file(content, name, folder_to_store):\n",
    "    #créer un fichier sous folder to store avec le nom name extension txt, en mode write pour pouvoir ecrir\n",
    "    file = open(f'{folder_to_store}/{name}.txt', \"w\")\n",
    "    file.write(content)\n",
    "    file.close()"
   ]
  },
  {
   "cell_type": "code",
   "execution_count": 21,
   "metadata": {},
   "outputs": [],
   "source": [
    "\"\"\"\n",
    "Evaluer un Modèle: Matrice de Confusion, Classification Report, Plot des accuracy. Elle prend les paramèters suivants:\n",
    "\n",
    "model : Le modèle qu'on évalue\n",
    "x_valid : Le dataset de test / validation\n",
    "y_valid : Le target du test / validation\n",
    "title : Le titre qu'on souhaite donner\n",
    "history : Le resultat obtenu lors du fit du model\n",
    "epoch : Le nombre d'Epoch utilisé pour le train du modèle\n",
    "directory_to_store : Le dossier où stocker les plots, modèle\n",
    "\n",
    "\"\"\"\n",
    "def evaluate(model, x_valid, y_valid, title, history, epoch, directory_to_store):\n",
    "  # Calculer la prediction sur dataset de test/validation\n",
    "  y_pred = model.predict_classes(x_valid)\n",
    "  #  Contruire la Matrice de Confusion\n",
    "  cm = confusion_matrix(y_valid, y_pred)\n",
    "  # Plot de la Matrice de confusion  \n",
    "  plt.figure(figsize=(14,6))\n",
    "  plt.title('Matrice de Confusion')\n",
    "  sns.heatmap(cm, \n",
    "            cmap=\"Blues\", \n",
    "            linecolor='black', \n",
    "            linewidth = 1, \n",
    "            annot = True, \n",
    "            fmt='',\n",
    "            #xticklabels=['Viral Pneumonia','NORMAL', 'COVID-19'], \n",
    "            xticklabels=ENCODING.keys(),\n",
    "            yticklabels=ENCODING.keys()  \n",
    "            #yticklabels = ['Viral Pneumonia','NORMAL', 'COVID-19']  \n",
    "  )\n",
    "  plt.ylabel('Vrais labels')\n",
    "  plt.xlabel('Labels prédits')\n",
    "  # Exporter plot en PNG\n",
    "  plt.savefig(f'./{directory_to_store}/matrice_confusion.png')\n",
    "\n",
    "\n",
    "  # Afficher le classification Report\n",
    "  print('Classification Report : ')\n",
    "  report = classification_report(y_true=y_valid, y_pred = y_pred, target_names=ENCODING.keys())\n",
    "  print(report)\n",
    "  export_to_text_file(report, 'classification_report', directory_to_store)\n",
    "  \n",
    "  # Ploter accuracy du training et de validation \n",
    "  plt.figure(figsize=(15,6))\n",
    "  plt.subplot(1,2,1)\n",
    "  plt.plot(np.arange(1, epoch+1), history.history['accuracy'])\n",
    "  plt.plot(np.arange(1, epoch+1), history.history['val_accuracy'])\n",
    "  plt.legend([\"Training Accuracy\", \"Validation Accuracy\"])\n",
    "  plt.title(\"Training et Validation Accuracy\")\n",
    "  plt.grid()\n",
    "  plt.xlim([1, epoch]);\n",
    "  plt.xlabel(\"Epoch\");\n",
    "\n",
    "  plt.subplot(1,2,2)\n",
    "  plt.plot(np.arange(1,epoch+1), history.history['loss'])\n",
    "  plt.plot(np.arange(1,epoch+1), history.history['val_loss'])\n",
    "  plt.legend([\"Training loss\", \"Validation loss\"])\n",
    "  plt.title(\"Training et Validation loss\")\n",
    "  plt.grid()\n",
    "  plt.xlim([1, epoch]);\n",
    "  plt.xlabel(\"Epoch\");\n",
    "  plt.savefig(f'./{directory_to_store}/loss.png')  \n",
    "\n",
    "  # Stocker le modèle \n",
    "  save_model(model, directory_to_store)"
   ]
  },
  {
   "cell_type": "markdown",
   "metadata": {},
   "source": [
    "### Split en dataset de Test et de Train"
   ]
  },
  {
   "cell_type": "code",
   "execution_count": 23,
   "metadata": {},
   "outputs": [],
   "source": [
    "from sklearn.model_selection import train_test_split\n",
    "X_train, X_test, y_train, y_test = train_test_split(data, target, test_size=0.20, random_state=42)"
   ]
  },
  {
   "cell_type": "markdown",
   "metadata": {},
   "source": [
    "## Normalisation"
   ]
  },
  {
   "cell_type": "code",
   "execution_count": 24,
   "metadata": {},
   "outputs": [],
   "source": [
    "X_train = X_train/255\n",
    "X_test = X_test/255"
   ]
  },
  {
   "cell_type": "markdown",
   "metadata": {},
   "source": [
    "## CNN SparseCategoricalCrossentropy \n",
    "\n",
    "Pour le cas de l'utilisation de Sparse comme loss function, on n'a pas besoin de transformer le target en vecteur categoriel\n",
    "Documentation: https://www.tensorflow.org/api_docs/python/tf/keras/losses/SparseCategoricalCrossentropy"
   ]
  },
  {
   "cell_type": "code",
   "execution_count": 25,
   "metadata": {
    "scrolled": true
   },
   "outputs": [
    {
     "name": "stdout",
     "output_type": "stream",
     "text": [
      "Model: \"sequential\"\n",
      "_________________________________________________________________\n",
      "Layer (type)                 Output Shape              Param #   \n",
      "=================================================================\n",
      "conv2d (Conv2D)              (None, 254, 254, 64)      640       \n",
      "_________________________________________________________________\n",
      "max_pooling2d (MaxPooling2D) (None, 127, 127, 64)      0         \n",
      "_________________________________________________________________\n",
      "conv2d_1 (Conv2D)            (None, 125, 125, 32)      18464     \n",
      "_________________________________________________________________\n",
      "max_pooling2d_1 (MaxPooling2 (None, 62, 62, 32)        0         \n",
      "_________________________________________________________________\n",
      "flatten (Flatten)            (None, 123008)            0         \n",
      "_________________________________________________________________\n",
      "dense (Dense)                (None, 64)                7872576   \n",
      "_________________________________________________________________\n",
      "dropout (Dropout)            (None, 64)                0         \n",
      "_________________________________________________________________\n",
      "dense_1 (Dense)              (None, 3)                 195       \n",
      "=================================================================\n",
      "Total params: 7,891,875\n",
      "Trainable params: 7,891,875\n",
      "Non-trainable params: 0\n",
      "_________________________________________________________________\n"
     ]
    }
   ],
   "source": [
    "model = Sequential()\n",
    "model.add(Conv2D(filters=64, kernel_size=3, activation=\"relu\", input_shape=[256, 256, 1]))\n",
    "model.add(MaxPool2D(pool_size=2))\n",
    "model.add(Conv2D(filters=32, kernel_size=3, activation=\"relu\"))\n",
    "model.add(MaxPool2D(pool_size=2))\n",
    "model.add(Flatten())\n",
    "model.add( Dense(units=64, activation='relu'))\n",
    "model.add(Dropout(0.05))\n",
    "model.add(Dense(units=3, activation='softmax'))\n",
    "\n",
    "# Afficher un Summary du Modèle utilisé\n",
    "model.summary()"
   ]
  },
  {
   "cell_type": "code",
   "execution_count": 26,
   "metadata": {},
   "outputs": [
    {
     "name": "stdout",
     "output_type": "stream",
     "text": [
      "Epoch 1/9\n",
      "96/96 [==============================] - 195s 2s/step - loss: 10.0064 - accuracy: 0.5706 - val_loss: 0.5681 - val_accuracy: 0.7977\n",
      "Epoch 2/9\n",
      "96/96 [==============================] - 190s 2s/step - loss: 0.6059 - accuracy: 0.7666 - val_loss: 0.6403 - val_accuracy: 0.7037\n",
      "Epoch 3/9\n",
      "96/96 [==============================] - 189s 2s/step - loss: 0.6501 - accuracy: 0.7090 - val_loss: 0.4626 - val_accuracy: 0.8342\n",
      "Epoch 4/9\n",
      "96/96 [==============================] - 189s 2s/step - loss: 0.4749 - accuracy: 0.8259 - val_loss: 0.3576 - val_accuracy: 0.8747\n",
      "Epoch 5/9\n",
      "96/96 [==============================] - 189s 2s/step - loss: 0.3075 - accuracy: 0.8860 - val_loss: 0.3241 - val_accuracy: 0.8903\n",
      "Epoch 6/9\n",
      "96/96 [==============================] - 190s 2s/step - loss: 0.1945 - accuracy: 0.9275 - val_loss: 0.4123 - val_accuracy: 0.8903\n",
      "Epoch 7/9\n",
      "96/96 [==============================] - 188s 2s/step - loss: 0.1588 - accuracy: 0.9493 - val_loss: 0.2746 - val_accuracy: 0.8969\n",
      "Epoch 8/9\n",
      "96/96 [==============================] - 180s 2s/step - loss: 0.0844 - accuracy: 0.9722 - val_loss: 0.3003 - val_accuracy: 0.9099\n",
      "Epoch 9/9\n",
      "96/96 [==============================] - 180s 2s/step - loss: 0.0688 - accuracy: 0.9761 - val_loss: 0.4673 - val_accuracy: 0.8995\n"
     ]
    }
   ],
   "source": [
    "# Learning rate: 0.01 avec Loss function de type sparse, on utilise la metrique accuracy\n",
    "epochs=9\n",
    "model.compile(optimizer=Adam(learning_rate = 0.01),\n",
    "              loss=SparseCategoricalCrossentropy(),\n",
    "              metrics=['accuracy'])\n",
    "history = model.fit(x = X_train, y = y_train, epochs=epochs, verbose=1, validation_data=(X_test, y_test))"
   ]
  },
  {
   "cell_type": "markdown",
   "metadata": {},
   "source": [
    "### Evaluation du Modèle"
   ]
  },
  {
   "cell_type": "code",
   "execution_count": 27,
   "metadata": {
    "scrolled": true
   },
   "outputs": [
    {
     "name": "stdout",
     "output_type": "stream",
     "text": [
      "Classification Report : \n",
      "                 precision    recall  f1-score   support\n",
      "\n",
      "       COVID-19       0.95      0.89      0.92       245\n",
      "         NORMAL       0.85      0.97      0.90       269\n",
      "Viral Pneumonia       0.92      0.84      0.88       252\n",
      "\n",
      "       accuracy                           0.90       766\n",
      "      macro avg       0.91      0.90      0.90       766\n",
      "   weighted avg       0.90      0.90      0.90       766\n",
      "\n",
      "INFO:tensorflow:Assets written to: ./cnn_architecture_1\\assets\n"
     ]
    },
    {
     "data": {
      "image/png": "[encoded data removed]",
      "text/plain": [
       "<Figure size 1008x432 with 2 Axes>"
      ]
     },
     "metadata": {
      "needs_background": "light"
     },
     "output_type": "display_data"
    },
    {
     "data": {
      "image/png": "[encoded data removed]",
      "text/plain": [
       "<Figure size 1080x432 with 2 Axes>"
      ]
     },
     "metadata": {
      "needs_background": "light"
     },
     "output_type": "display_data"
    }
   ],
   "source": [
    "evaluate(model, X_test, y_test, 'CNN Architecture (A)', history, epochs, CNN_ARCHITECTURE_1)"
   ]
  },
  {
   "cell_type": "markdown",
   "metadata": {},
   "source": [
    "Vu que ce premier modèle n'est pas satisfaisant, après multiples essais, nous décidons de partir sur le modèle ci-dessous\n",
    "\n",
    "## CNN avec CategoricalCrossentropy\n",
    "\n",
    "Dans ce second modèle, on a mis à jour l'architecture du modèle avec plus de couches, ainsi qu'un learning rate varibale. Ici on aura besoin de transformer notre target en vecteur categoriel.\n",
    "\n",
    "Learning Rate Varible: https://keras.io/api/optimizers/learning_rate_schedules/exponential_decay/\n",
    "CategoricalCrossentropy : https://www.tensorflow.org/api_docs/python/tf/keras/losses/CategoricalCrossentropy"
   ]
  },
  {
   "cell_type": "markdown",
   "metadata": {},
   "source": [
    "On Utilise en sortie la fonction d'Activation Softmax. Car on est dans une classification multi classes. voir https://keras.io/api/layers/activations/"
   ]
  },
  {
   "cell_type": "code",
   "execution_count": 33,
   "metadata": {},
   "outputs": [
    {
     "name": "stdout",
     "output_type": "stream",
     "text": [
      "Model: \"sequential_2\"\n",
      "_________________________________________________________________\n",
      "Layer (type)                 Output Shape              Param #   \n",
      "=================================================================\n",
      "conv2d_4 (Conv2D)            (None, 256, 256, 64)      640       \n",
      "_________________________________________________________________\n",
      "max_pooling2d_4 (MaxPooling2 (None, 128, 128, 64)      0         \n",
      "_________________________________________________________________\n",
      "conv2d_5 (Conv2D)            (None, 128, 128, 32)      18464     \n",
      "_________________________________________________________________\n",
      "max_pooling2d_5 (MaxPooling2 (None, 64, 64, 32)        0         \n",
      "_________________________________________________________________\n",
      "flatten_2 (Flatten)          (None, 131072)            0         \n",
      "_________________________________________________________________\n",
      "dense_6 (Dense)              (None, 64)                8388672   \n",
      "_________________________________________________________________\n",
      "dropout_2 (Dropout)          (None, 64)                0         \n",
      "_________________________________________________________________\n",
      "dense_7 (Dense)              (None, 32)                2080      \n",
      "_________________________________________________________________\n",
      "dense_8 (Dense)              (None, 16)                528       \n",
      "_________________________________________________________________\n",
      "dense_9 (Dense)              (None, 3)                 51        \n",
      "=================================================================\n",
      "Total params: 8,410,435\n",
      "Trainable params: 8,410,435\n",
      "Non-trainable params: 0\n",
      "_________________________________________________________________\n"
     ]
    }
   ],
   "source": [
    "model = Sequential()\n",
    "model.add(Conv2D(filters=64, kernel_size=3, padding=\"same\", activation=\"relu\", input_shape=[256, 256, 1]))\n",
    "model.add(MaxPool2D(pool_size=2, padding=\"same\"))\n",
    "model.add(Conv2D(filters=32, kernel_size=3, padding=\"same\", activation=\"relu\"))\n",
    "model.add(MaxPool2D(pool_size=2, padding=\"same\"))\n",
    "model.add(Flatten())\n",
    "model.add(Dense(units=64, activation='relu'))\n",
    "model.add(Dropout(0.05))\n",
    "model.add(Dense(units=32, activation =\"relu\"))\n",
    "model.add(Dense(units=16, activation =\"relu\"))\n",
    "model.add(Dense(units=3, activation='softmax'))\n",
    "\n",
    "model.summary()"
   ]
  },
  {
   "cell_type": "code",
   "execution_count": 34,
   "metadata": {},
   "outputs": [],
   "source": [
    "# Compiler le modèle en utilisant CategoricalCrossentropy comme loss function ainsi qu'un learning rate variable\n",
    "initial_learning_rate = 0.01\n",
    "lr_schedule = ExponentialDecay(\n",
    "    initial_learning_rate,\n",
    "    decay_steps=6000,\n",
    "    decay_rate=0.95,\n",
    "    staircase=True)\n",
    "model.compile(optimizer=Adam(learning_rate = lr_schedule),\n",
    "              loss = CategoricalCrossentropy(),\n",
    "              metrics=['accuracy'])"
   ]
  },
  {
   "cell_type": "code",
   "execution_count": 35,
   "metadata": {},
   "outputs": [
    {
     "name": "stdout",
     "output_type": "stream",
     "text": [
      "Epoch 1/10\n",
      "96/96 [==============================] - 183s 2s/step - loss: 1.8918 - accuracy: 0.5287 - val_loss: 0.5588 - val_accuracy: 0.7533\n",
      "Epoch 2/10\n",
      "96/96 [==============================] - 177s 2s/step - loss: 0.5080 - accuracy: 0.7896 - val_loss: 0.4485 - val_accuracy: 0.8081\n",
      "Epoch 3/10\n",
      "96/96 [==============================] - 181s 2s/step - loss: 0.4552 - accuracy: 0.8162 - val_loss: 0.4127 - val_accuracy: 0.8512\n",
      "Epoch 4/10\n",
      "96/96 [==============================] - 181s 2s/step - loss: 0.3622 - accuracy: 0.8711 - val_loss: 0.3642 - val_accuracy: 0.8838\n",
      "Epoch 5/10\n",
      "96/96 [==============================] - 182s 2s/step - loss: 0.3253 - accuracy: 0.8720 - val_loss: 0.3011 - val_accuracy: 0.8825\n",
      "Epoch 6/10\n",
      "96/96 [==============================] - 184s 2s/step - loss: 0.2449 - accuracy: 0.9073 - val_loss: 0.3999 - val_accuracy: 0.8708\n",
      "Epoch 7/10\n",
      "96/96 [==============================] - 185s 2s/step - loss: 0.2088 - accuracy: 0.9295 - val_loss: 0.4103 - val_accuracy: 0.8603\n",
      "Epoch 8/10\n",
      "96/96 [==============================] - 190s 2s/step - loss: 0.2208 - accuracy: 0.9158 - val_loss: 0.2894 - val_accuracy: 0.9008\n",
      "Epoch 9/10\n",
      "96/96 [==============================] - 193s 2s/step - loss: 0.1601 - accuracy: 0.9420 - val_loss: 0.2756 - val_accuracy: 0.9086\n",
      "Epoch 10/10\n",
      "96/96 [==============================] - 194s 2s/step - loss: 0.1367 - accuracy: 0.9519 - val_loss: 0.2967 - val_accuracy: 0.8943\n"
     ]
    }
   ],
   "source": [
    "# CategoricalCrossentropy nécessite que la target soit catégorielle \n",
    "y_train_categorial = utils.to_categorical(y_train)\n",
    "y_test_categorial = utils.to_categorical(y_test)\n",
    "\n",
    "# Fit le modèle\n",
    "epochs = 10\n",
    "history = model.fit(X_train, y_train_categorial, epochs=epochs, verbose=1, validation_data=(X_test, y_test_categorial))"
   ]
  },
  {
   "cell_type": "markdown",
   "metadata": {},
   "source": [
    "### Evaluation du Modèle"
   ]
  },
  {
   "cell_type": "code",
   "execution_count": 36,
   "metadata": {},
   "outputs": [
    {
     "name": "stdout",
     "output_type": "stream",
     "text": [
      "Classification Report : \n",
      "                 precision    recall  f1-score   support\n",
      "\n",
      "       COVID-19       0.99      0.90      0.94       245\n",
      "         NORMAL       0.82      0.94      0.87       269\n",
      "Viral Pneumonia       0.91      0.84      0.87       252\n",
      "\n",
      "       accuracy                           0.89       766\n",
      "      macro avg       0.90      0.89      0.90       766\n",
      "   weighted avg       0.90      0.89      0.90       766\n",
      "\n",
      "INFO:tensorflow:Assets written to: ./cnn_architecture_2\\assets\n"
     ]
    },
    {
     "data": {
      "image/png": "[encoded data removed]",
      "text/plain": [
       "<Figure size 1008x432 with 2 Axes>"
      ]
     },
     "metadata": {
      "needs_background": "light"
     },
     "output_type": "display_data"
    },
    {
     "data": {
      "image/png": "[encoded data removed]",
      "text/plain": [
       "<Figure size 1080x432 with 2 Axes>"
      ]
     },
     "metadata": {
      "needs_background": "light"
     },
     "output_type": "display_data"
    }
   ],
   "source": [
    "evaluate(model, X_test, y_test, 'CNN Architecture (B)', history, epochs, CNN_ARCHITECTURE_2)"
   ]
  },
  {
   "cell_type": "code",
   "execution_count": null,
   "metadata": {},
   "outputs": [],
   "source": []
  },
  {
   "cell_type": "code",
   "execution_count": null,
   "metadata": {},
   "outputs": [],
   "source": []
  },
  {
   "cell_type": "code",
   "execution_count": null,
   "metadata": {},
   "outputs": [],
   "source": []
  }
 ],
 "metadata": {
  "kernelspec": {
   "display_name": "Python 3",
   "language": "python",
   "name": "python3"
  },
  "language_info": {
   "codemirror_mode": {
    "name": "ipython",
    "version": 3
   },
   "file_extension": ".py",
   "mimetype": "text/x-python",
   "name": "python",
   "nbconvert_exporter": "python",
   "pygments_lexer": "ipython3",
   "version": "3.8.5"
  }
 },
 "nbformat": 4,
 "nbformat_minor": 4
}
